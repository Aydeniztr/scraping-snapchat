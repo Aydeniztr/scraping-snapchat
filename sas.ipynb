{
  "nbformat": 4,
  "nbformat_minor": 0,
  "metadata": {
    "colab": {
      "name": "Untitled7.ipynb",
      "provenance": [],
      "collapsed_sections": []
    },
    "kernelspec": {
      "name": "python3",
      "display_name": "Python 3"
    },
    "language_info": {
      "name": "python"
    }
  },
  "cells": [
    {
      "cell_type": "code",
      "source": [
        "from urllib.request import urlopen\n",
        "from bs4 import BeautifulSoup\n",
        "from sys import argv"
      ],
      "metadata": {
        "id": "g8-m7zCBtQYI"
      },
      "execution_count": null,
      "outputs": []
    },
    {
      "cell_type": "code",
      "source": [
        "banner = '''                                                                                                                                                     \n",
        " #### #   #   #   ##### #   # #   #   #   #####      #### #   # ####    #   ##### ##### ####  \n",
        "#     #   #  # #  #   # #   #  # #   # #    #       #     #   # #   #  # #  #   # #     #   # \n",
        "#     ##### ##### #   #  ####   #   #####   #       #      #### ####  ##### #   # ####  ####  \n",
        "#     #   # #   # #   #     #  # #  #   #   #       #         # #     #   # #   # #     #     \n",
        " #### #   # #   # #   #     # #   # #   #   #        ####     # #     #   # #   # ##### #      \n",
        "'''"
      ],
      "metadata": {
        "id": "8uwx9kHI7xFS"
      },
      "execution_count": null,
      "outputs": []
    },
    {
      "cell_type": "code",
      "source": [
        "license = '''\n",
        "Copyright 2022 Ahmet Yigit Aydeniz\n",
        "\n",
        "Permission is hereby granted, free of charge, to any person obtaining a copy of this software and associated documentation files (the \"Software\"), to deal in the Software without restriction, including without limitation the rights to use, copy, modify, merge, publish, distribute, sublicense, and/or sell copies of the Software, and to permit persons to whom the Software is furnished to do so, subject to the following conditions:\n",
        "\n",
        "The above copyright notice and this permission notice shall be included in all copies or substantial portions of the Software.\n",
        "\n",
        "THE SOFTWARE IS PROVIDED \"AS IS\", WITHOUT WARRANTY OF ANY KIND, EXPRESS OR IMPLIED, INCLUDING BUT NOT LIMITED TO THE WARRANTIES OF MERCHANTABILITY, FITNESS FOR A PARTICULAR PURPOSE AND NONINFRINGEMENT. IN NO EVENT SHALL THE AUTHORS OR COPYRIGHT HOLDERS BE LIABLE FOR ANY CLAIM, DAMAGES OR OTHER LIABILITY, WHETHER IN AN ACTION OF CONTRACT, TORT OR OTHERWISE, ARISING FROM, OUT OF OR IN CONNECTION WITH THE SOFTWARE OR THE USE OR OTHER DEALINGS IN THE SOFTWARE.\n",
        "'''"
      ],
      "metadata": {
        "id": "QU02u-gJ8Pzk"
      },
      "execution_count": null,
      "outputs": []
    },
    {
      "cell_type": "code",
      "source": [
        " FNRM = \"\\x1B[0m\"\n",
        " FRED = \"\\x1B[31m\"\n",
        " FGRN = \"\\x1B[32m\"\n",
        " FYEL = \"\\x1B[33m\"\n",
        " FBLU = \"\\x1B[34m\"\n",
        " FMAG = \"\\x1B[35m\"\n",
        " FCYN = \"\\x1B[36m\"\n",
        " FWHT = \"\\x1B[37m\""
      ],
      "metadata": {
        "id": "1TUFAVuQ-2fq"
      },
      "execution_count": null,
      "outputs": []
    },
    {
      "cell_type": "code",
      "source": [
        " BNRM = \"\\x1B[0m\"\n",
        " BRED = \"\\x1B[41m\"\n",
        " BGRN = \"\\x1B[42m\"\n",
        " BYEL = \"\\x1B[43m\"\n",
        " BBLU = \"\\x1B[44m\"\n",
        " BMAG = \"\\x1B[45m\"\n",
        " BCYN = \"\\x1B[46m\"\n",
        " BWHT = \"\\x1B[47m\""
      ],
      "metadata": {
        "id": "d-5ihLw2BOv9"
      },
      "execution_count": null,
      "outputs": []
    },
    {
      "cell_type": "code",
      "source": [
        "def clear_scrn(mode):\n",
        "\n",
        "  if mode == 0:\n",
        "    print(\"\\x1B[2K\")\n",
        "\n",
        "  elif mode == 1:\n",
        "    print(\"\\x1B[2J\")\n",
        "\n",
        "  else:\n",
        "    print(\"\\x1B[2J\")\n"
      ],
      "metadata": {
        "id": "bp0pc0ld-sEx"
      },
      "execution_count": null,
      "outputs": []
    },
    {
      "cell_type": "code",
      "execution_count": null,
      "metadata": {
        "id": "R0I88xQi5ebg"
      },
      "outputs": [],
      "source": [
        "def parse_scripts(link):\n",
        "\n",
        "  HTML = urlopen(link)\n",
        "  soup = BeautifulSoup (HTML.read(), 'html.parser')\n",
        "\n",
        "  print(\"parsing scripts:\\n\")\n",
        "\n",
        "  list_ = [dictionary.get('src') for dictionary in soup.find_all('script') if dictionary.get('src')]\n",
        "\n",
        "  for script_src in list_ :\n",
        "    print(script_src)\n",
        "\n",
        "  print(\"\\n\"+BGRN+\"[Done !!!]\"+BNRM+\"\\n\")"
      ]
    },
    {
      "cell_type": "code",
      "execution_count": null,
      "metadata": {
        "id": "RQ4fPE7jsCyu"
      },
      "outputs": [],
      "source": [
        "def get_msg(link):\n",
        "\n",
        "  inv = str(link)\n",
        "\n",
        "  print('sending http request to the:\\n' + inv)\n",
        "\n",
        "  meta = urlopen(link)\n",
        "  \n",
        "  print('\\nparsing http-return-message\\n')\n",
        "\t\n",
        "  u = meta.info()\n",
        "\t\n",
        "  print(u)\n",
        "  print(\"\\n\"+BGRN+\"[Account Exist]\"+BNRM+\"\\n\")\n",
        "\n",
        "\n",
        "def main(link):\n",
        "  \n",
        "  print(banner)\n",
        "  print(license)\n",
        "  clear_scrn(1)\n",
        "  try:\n",
        "    parse_scripts(link)\n",
        "    get_msg(link)\n",
        "  except:\n",
        "    print(BRED+\"\\n[Account Not Found]\\n\"+BNRM)"
      ]
    },
    {
      "cell_type": "code",
      "source": [
        "username = str(input(\"\\nenter a username:\"))\n",
        "\n",
        "main(\"https://www.snapchat.com/add/\"+username)"
      ],
      "metadata": {
        "id": "tXtoansftC2I"
      },
      "execution_count": null,
      "outputs": []
    }
  ]
}